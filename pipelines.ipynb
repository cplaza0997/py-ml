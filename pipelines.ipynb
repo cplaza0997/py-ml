{
 "cells": [
  {
   "cell_type": "markdown",
   "id": "4033f9f1-7daf-4160-85b0-e26508974055",
   "metadata": {},
   "source": [
    "# Setup dependencies\n",
    "I will be using pandas and sklearn for managing data and machine learning.\n",
    "<details>\n",
    "    <summary>pip install...</summary>\n",
    "\n",
    "```python\n",
    "# Allows to install a python package\n",
    "pip install package-name\n",
    "# or install python package with a specific version\n",
    "pip install package-name==version\n",
    "```\n",
    "</details>\n"
   ]
  },
  {
   "cell_type": "markdown",
   "id": "b7eac43f-67d4-4091-8ecd-d42415dcc8e1",
   "metadata": {
    "execution": {
     "iopub.execute_input": "2024-12-26T08:25:03.953373Z",
     "iopub.status.busy": "2024-12-26T08:25:03.953373Z"
    }
   },
   "source": [
    "!pip install pandas\n",
    "!pip install scikit-learn\n",
    "!pip install numpy"
   ]
  },
  {
   "cell_type": "markdown",
   "id": "85de8c00-0713-4248-9fb2-27151ca36a95",
   "metadata": {},
   "source": [
    "# Modules"
   ]
  },
  {
   "cell_type": "code",
   "execution_count": 1,
   "id": "1b7f5b87-bc9f-4efe-b1e7-40850d31ba3c",
   "metadata": {
    "execution": {
     "iopub.execute_input": "2024-12-28T00:53:42.963521Z",
     "iopub.status.busy": "2024-12-28T00:53:42.963521Z",
     "iopub.status.idle": "2024-12-28T00:53:49.360408Z",
     "shell.execute_reply": "2024-12-28T00:53:49.360408Z",
     "shell.execute_reply.started": "2024-12-28T00:53:42.963521Z"
    }
   },
   "outputs": [],
   "source": [
    "from pyspark.ml.regression import LinearRegression\n",
    "from pyspark.ml.classification import LogisticRegression\n",
    "\n",
    "from pyspark.ml.feature import VectorAssembler\n",
    "from pyspark.ml.feature import StandardScaler\n",
    "from pyspark.ml.feature import StringIndexer\n",
    "\n",
    "from pyspark.sql import SparkSession\n",
    "\n",
    "\n",
    "# import functions/Classes for pipeline creation\n",
    "\n",
    "from pyspark.ml import Pipeline\n",
    "\n",
    "# import functions/Classes for metrics\n",
    "from pyspark.ml.evaluation import RegressionEvaluator\n",
    "from pyspark.ml.evaluation import MulticlassClassificationEvaluator\n",
    "\n",
    "\n",
    "#Ignore any warnings by SparkSession command\n",
    "spark = SparkSession.builder.appName(\"ML Pipeline Example\").getOrCreate()"
   ]
  },
  {
   "cell_type": "markdown",
   "id": "f68ea979-d92b-4472-815f-c917bfe84b00",
   "metadata": {
    "execution": {
     "iopub.execute_input": "2024-12-26T08:56:06.448265Z",
     "iopub.status.busy": "2024-12-26T08:56:06.447713Z",
     "iopub.status.idle": "2024-12-26T08:56:06.453484Z",
     "shell.execute_reply": "2024-12-26T08:56:06.452409Z",
     "shell.execute_reply.started": "2024-12-26T08:56:06.447713Z"
    }
   },
   "source": [
    "# Linear Regression"
   ]
  },
  {
   "cell_type": "markdown",
   "id": "2a2eaa03-e6f3-4828-a197-0b8d95fb63fd",
   "metadata": {},
   "source": [
    "## Reading dataset"
   ]
  },
  {
   "cell_type": "code",
   "execution_count": 2,
   "id": "b1daee36-429d-41b7-9f25-fff7aadabdfd",
   "metadata": {
    "execution": {
     "iopub.execute_input": "2024-12-28T00:53:49.360408Z",
     "iopub.status.busy": "2024-12-28T00:53:49.360408Z",
     "iopub.status.idle": "2024-12-28T00:53:53.563257Z",
     "shell.execute_reply": "2024-12-28T00:53:53.563257Z",
     "shell.execute_reply.started": "2024-12-28T00:53:49.360408Z"
    }
   },
   "outputs": [],
   "source": [
    "# Load mpg dataset\n",
    "mpg_data = spark.read.csv(\"data/mpg.csv\", header=True, inferSchema=True)"
   ]
  },
  {
   "cell_type": "markdown",
   "id": "ee0cae2d-a81a-4a7e-9fb8-09b052c2cf58",
   "metadata": {},
   "source": [
    "## Split into training and testing sets"
   ]
  },
  {
   "cell_type": "code",
   "execution_count": 3,
   "id": "98edf6f4-3350-4098-8c0d-66a70eeff6c0",
   "metadata": {
    "execution": {
     "iopub.execute_input": "2024-12-28T00:53:53.567669Z",
     "iopub.status.busy": "2024-12-28T00:53:53.563257Z",
     "iopub.status.idle": "2024-12-28T00:53:53.599848Z",
     "shell.execute_reply": "2024-12-28T00:53:53.599848Z",
     "shell.execute_reply.started": "2024-12-28T00:53:53.567669Z"
    }
   },
   "outputs": [],
   "source": [
    "# Split the data into training and testing sets\n",
    "(trainingData, testData) = mpg_data.randomSplit([0.7, 0.3], seed=42)"
   ]
  },
  {
   "cell_type": "markdown",
   "id": "ebd72d46-0d48-4915-bb03-40d7f46e917c",
   "metadata": {},
   "source": [
    "## Define pipeline stages"
   ]
  },
  {
   "cell_type": "code",
   "execution_count": 4,
   "id": "021baeed-e51f-4892-8b6c-31f2005848e8",
   "metadata": {
    "execution": {
     "iopub.execute_input": "2024-12-28T00:53:53.601853Z",
     "iopub.status.busy": "2024-12-28T00:53:53.601853Z",
     "iopub.status.idle": "2024-12-28T00:53:53.695484Z",
     "shell.execute_reply": "2024-12-28T00:53:53.695484Z",
     "shell.execute_reply.started": "2024-12-28T00:53:53.601853Z"
    }
   },
   "outputs": [],
   "source": [
    "# Stage 1 - assemble the input columns into a single vector \n",
    "vectorAssembler = VectorAssembler(inputCols=[\"Weight\", \"Horsepower\", \"Engine Disp\"], outputCol=\"features\")\n",
    "# Stage 2 - scale the features using standard scaler\n",
    "scaler = StandardScaler(inputCol=\"features\", outputCol=\"scaledFeatures\")\n",
    "# Stage 3 - create a linear regression instance\n",
    "lr = LinearRegression(featuresCol=\"scaledFeatures\", labelCol=\"MPG\")\n",
    "\n",
    "# Build the pipeline with previous stages\n",
    "pipeline = Pipeline(stages=[vectorAssembler, scaler, lr])"
   ]
  },
  {
   "cell_type": "markdown",
   "id": "5e50dcbd-d367-46b7-a10a-b078a5623eca",
   "metadata": {},
   "source": [
    "## Fit the pipeline"
   ]
  },
  {
   "cell_type": "code",
   "execution_count": 5,
   "id": "b545bd5b-302d-4f6b-921d-1c8abfc02390",
   "metadata": {
    "execution": {
     "iopub.execute_input": "2024-12-28T00:53:53.695484Z",
     "iopub.status.busy": "2024-12-28T00:53:53.695484Z",
     "iopub.status.idle": "2024-12-28T00:53:56.482414Z",
     "shell.execute_reply": "2024-12-28T00:53:56.481778Z",
     "shell.execute_reply.started": "2024-12-28T00:53:53.695484Z"
    }
   },
   "outputs": [],
   "source": [
    "model = pipeline.fit(trainingData)"
   ]
  },
  {
   "cell_type": "markdown",
   "id": "90ba2b15-efd9-456d-8be5-0afd6ab8689d",
   "metadata": {
    "execution": {
     "iopub.execute_input": "2024-12-26T08:17:56.742840Z",
     "iopub.status.busy": "2024-12-26T08:17:56.741840Z",
     "iopub.status.idle": "2024-12-26T08:17:56.747039Z",
     "shell.execute_reply": "2024-12-26T08:17:56.746030Z",
     "shell.execute_reply.started": "2024-12-26T08:17:56.742840Z"
    }
   },
   "source": [
    "## Predict and evaluate the model"
   ]
  },
  {
   "cell_type": "code",
   "execution_count": 6,
   "id": "ea1b9bdb-b02d-43b7-8e02-f383455f0a6a",
   "metadata": {
    "execution": {
     "iopub.execute_input": "2024-12-28T00:53:56.483441Z",
     "iopub.status.busy": "2024-12-28T00:53:56.483441Z",
     "iopub.status.idle": "2024-12-28T00:53:56.803182Z",
     "shell.execute_reply": "2024-12-28T00:53:56.803182Z",
     "shell.execute_reply.started": "2024-12-28T00:53:56.483441Z"
    }
   },
   "outputs": [
    {
     "name": "stdout",
     "output_type": "stream",
     "text": [
      "Root Mean Squared Error (RMSE) = 3.875664618383922\n"
     ]
    }
   ],
   "source": [
    "predictions = model.transform(testData)\n",
    "evaluator = RegressionEvaluator(labelCol=\"MPG\", predictionCol=\"prediction\", metricName=\"rmse\")\n",
    "rmse = evaluator.evaluate(predictions)\n",
    "print(\"Root Mean Squared Error (RMSE) =\", rmse)"
   ]
  },
  {
   "cell_type": "markdown",
   "id": "168775f7-90c4-4cd2-9556-69fafef93ffc",
   "metadata": {
    "execution": {
     "iopub.execute_input": "2024-12-28T01:25:03.179518Z",
     "iopub.status.busy": "2024-12-28T01:25:03.177498Z",
     "iopub.status.idle": "2024-12-28T01:25:03.198739Z",
     "shell.execute_reply": "2024-12-28T01:25:03.197739Z",
     "shell.execute_reply.started": "2024-12-28T01:25:03.179518Z"
    }
   },
   "source": [
    "## Save the model"
   ]
  },
  {
   "cell_type": "code",
   "execution_count": 16,
   "id": "39a8a435-b9cd-4a20-a490-9a4cb3a32e73",
   "metadata": {
    "execution": {
     "iopub.execute_input": "2024-12-28T01:25:56.501947Z",
     "iopub.status.busy": "2024-12-28T01:25:56.498225Z",
     "iopub.status.idle": "2024-12-28T01:25:56.760782Z",
     "shell.execute_reply": "2024-12-28T01:25:56.760782Z",
     "shell.execute_reply.started": "2024-12-28T01:25:56.501947Z"
    }
   },
   "outputs": [],
   "source": [
    "!mkdir model_storage"
   ]
  },
  {
   "cell_type": "code",
   "execution_count": null,
   "id": "8942609b-d27d-4a4d-b0ad-f09557c8e080",
   "metadata": {
    "execution": {
     "iopub.execute_input": "2024-12-28T01:25:58.058356Z",
     "iopub.status.busy": "2024-12-28T01:25:58.058356Z",
     "iopub.status.idle": "2024-12-28T01:25:58.191815Z",
     "shell.execute_reply": "2024-12-28T01:25:58.189810Z",
     "shell.execute_reply.started": "2024-12-28T01:25:58.058356Z"
    }
   },
   "outputs": [],
   "source": [
    "model.write().overwrite().save(\"./model_storage\")"
   ]
  },
  {
   "cell_type": "markdown",
   "id": "90a68fe4-6318-49cc-a4d9-2618c9cd70a1",
   "metadata": {
    "execution": {
     "iopub.execute_input": "2024-12-28T01:27:04.580493Z",
     "iopub.status.busy": "2024-12-28T01:27:04.579078Z",
     "iopub.status.idle": "2024-12-28T01:27:04.598069Z",
     "shell.execute_reply": "2024-12-28T01:27:04.597076Z",
     "shell.execute_reply.started": "2024-12-28T01:27:04.579826Z"
    }
   },
   "source": [
    "## Load the model"
   ]
  },
  {
   "cell_type": "code",
   "execution_count": null,
   "id": "f0c87105-0efb-4d1d-a5a2-5f3af3ab30b5",
   "metadata": {
    "execution": {
     "iopub.execute_input": "2024-12-28T01:27:17.023581Z",
     "iopub.status.busy": "2024-12-28T01:27:17.022579Z",
     "iopub.status.idle": "2024-12-28T01:27:17.327279Z",
     "shell.execute_reply": "2024-12-28T01:27:17.325560Z",
     "shell.execute_reply.started": "2024-12-28T01:27:17.023581Z"
    }
   },
   "outputs": [],
   "source": [
    "from pyspark.ml.pipeline import PipelineModel\n",
    "\n",
    "# Load persisted model\n",
    "loaded_model = PipelineModel.load(\"./model_storage/\")"
   ]
  },
  {
   "cell_type": "code",
   "execution_count": null,
   "id": "3c7f105e-13db-4e95-947a-947723012ab0",
   "metadata": {},
   "outputs": [],
   "source": [
    "# Make predictions on test data\n",
    "predictions = loaded_model.transform(testData)"
   ]
  },
  {
   "cell_type": "markdown",
   "id": "65de9f31-63c2-4c23-9a75-d189eaf53a26",
   "metadata": {
    "execution": {
     "iopub.execute_input": "2024-12-26T08:53:10.514564Z",
     "iopub.status.busy": "2024-12-26T08:53:10.514564Z",
     "iopub.status.idle": "2024-12-26T08:53:10.521603Z",
     "shell.execute_reply": "2024-12-26T08:53:10.520459Z",
     "shell.execute_reply.started": "2024-12-26T08:53:10.514564Z"
    }
   },
   "source": [
    "# Logistic Regression"
   ]
  },
  {
   "cell_type": "markdown",
   "id": "dd993a6a-f275-49c0-8a6b-763d58ccbc5f",
   "metadata": {},
   "source": [
    "## Reading dataset"
   ]
  },
  {
   "cell_type": "code",
   "execution_count": 7,
   "id": "f3f35069-89c7-4eb2-9e76-24df406f8136",
   "metadata": {
    "execution": {
     "iopub.execute_input": "2024-12-28T00:53:56.805184Z",
     "iopub.status.busy": "2024-12-28T00:53:56.805184Z",
     "iopub.status.idle": "2024-12-28T00:53:57.195626Z",
     "shell.execute_reply": "2024-12-28T00:53:57.195626Z",
     "shell.execute_reply.started": "2024-12-28T00:53:56.805184Z"
    }
   },
   "outputs": [
    {
     "name": "stdout",
     "output_type": "stream",
     "text": [
      "+-------------+------------+-------------+------------+------+-----------+\n",
      "|SepalLengthCm|SepalWidthCm|PetalLengthCm|PetalWidthCm|Detail|    Species|\n",
      "+-------------+------------+-------------+------------+------+-----------+\n",
      "|          5.1|         3.5|          1.4|         0.2|    mn|Iris-setosa|\n",
      "|          4.9|         3.0|          1.4|         0.2|    mn|Iris-setosa|\n",
      "|          4.7|         3.2|          1.3|         0.2|    mn|Iris-setosa|\n",
      "|          4.6|         3.1|          1.5|         0.2|    mn|Iris-setosa|\n",
      "|          5.0|         3.6|          1.4|         0.2|    mn|Iris-setosa|\n",
      "+-------------+------------+-------------+------------+------+-----------+\n",
      "only showing top 5 rows\n",
      "\n"
     ]
    }
   ],
   "source": [
    "# Load mpg dataset\n",
    "iris_data = spark.read.csv(\"data/iris.csv\", header=True, inferSchema=True)\n",
    "iris_data.show(5)"
   ]
  },
  {
   "cell_type": "markdown",
   "id": "d47353b4-1e7a-4a8a-b941-f7f016b04f1b",
   "metadata": {},
   "source": [
    "## Split the data"
   ]
  },
  {
   "cell_type": "code",
   "execution_count": 8,
   "id": "77d29010-4f7d-4c97-92ca-7d9f5423bc3c",
   "metadata": {
    "execution": {
     "iopub.execute_input": "2024-12-28T00:53:57.195626Z",
     "iopub.status.busy": "2024-12-28T00:53:57.195626Z",
     "iopub.status.idle": "2024-12-28T00:53:57.216646Z",
     "shell.execute_reply": "2024-12-28T00:53:57.216646Z",
     "shell.execute_reply.started": "2024-12-28T00:53:57.195626Z"
    }
   },
   "outputs": [],
   "source": [
    "(trainingData, testData) = iris_data.randomSplit([0.7, 0.3], seed=42)"
   ]
  },
  {
   "cell_type": "markdown",
   "id": "74e99e5f-5fe7-42d3-a972-4cd30d0efc9c",
   "metadata": {},
   "source": [
    "## Defining pipeline"
   ]
  },
  {
   "cell_type": "code",
   "execution_count": 9,
   "id": "def4055a-c3c3-4438-809f-cd4d5ab1beb6",
   "metadata": {
    "execution": {
     "iopub.execute_input": "2024-12-28T00:53:57.218647Z",
     "iopub.status.busy": "2024-12-28T00:53:57.218647Z",
     "iopub.status.idle": "2024-12-28T00:53:57.282154Z",
     "shell.execute_reply": "2024-12-28T00:53:57.280668Z",
     "shell.execute_reply.started": "2024-12-28T00:53:57.218647Z"
    }
   },
   "outputs": [],
   "source": [
    "indexer = StringIndexer(inputCol=\"Species\", outputCol=\"label\")\n",
    "\n",
    "indexer_x = StringIndexer(inputCol=\"Detail\", outputCol=\"DetailIdx\")\n",
    "vectorAssembler = VectorAssembler(inputCols=[\"SepalLengthCm\", \"SepalWidthCm\", \"PetalLengthCm\",\"PetalWidthCm\",\"DetailIdx\"], outputCol=\"features\")\n",
    "\n",
    "subpipeline = Pipeline(stages=[indexer_x, vectorAssembler])\n",
    "\n",
    "scaler = StandardScaler(inputCol=\"features\", outputCol=\"scaledFeatures\")\n",
    "\n",
    "classifier = LogisticRegression(featuresCol=\"scaledFeatures\", labelCol=\"label\")\n",
    "\n",
    "pipeline = Pipeline(stages=[indexer, subpipeline, scaler, classifier])"
   ]
  },
  {
   "cell_type": "markdown",
   "id": "5fc85eb3-a166-425a-85a9-608a5f84bf98",
   "metadata": {},
   "source": [
    "## Fit the pipeline"
   ]
  },
  {
   "cell_type": "code",
   "execution_count": 13,
   "id": "3e91e012-5264-4e6b-930a-a54f263678e9",
   "metadata": {
    "execution": {
     "iopub.execute_input": "2024-12-28T00:55:14.776743Z",
     "iopub.status.busy": "2024-12-28T00:55:14.776743Z",
     "iopub.status.idle": "2024-12-28T00:55:16.495422Z",
     "shell.execute_reply": "2024-12-28T00:55:16.494013Z",
     "shell.execute_reply.started": "2024-12-28T00:55:14.776743Z"
    }
   },
   "outputs": [],
   "source": [
    "model = pipeline.fit(trainingData)"
   ]
  },
  {
   "cell_type": "markdown",
   "id": "4ece5341-d125-4f53-b5d9-026d5b748085",
   "metadata": {},
   "source": [
    "## Evaluate the model"
   ]
  },
  {
   "cell_type": "code",
   "execution_count": 11,
   "id": "22bdda7f-9ecf-4c43-95bf-63b8ebc3f0ed",
   "metadata": {
    "execution": {
     "iopub.execute_input": "2024-12-28T00:54:02.199378Z",
     "iopub.status.busy": "2024-12-28T00:54:02.199378Z",
     "iopub.status.idle": "2024-12-28T00:54:02.647775Z",
     "shell.execute_reply": "2024-12-28T00:54:02.646759Z",
     "shell.execute_reply.started": "2024-12-28T00:54:02.199378Z"
    }
   },
   "outputs": [
    {
     "name": "stdout",
     "output_type": "stream",
     "text": [
      "Accuracy = 1.0\n"
     ]
    }
   ],
   "source": [
    "predictions = model.transform(testData)\n",
    "\n",
    "evaluator = MulticlassClassificationEvaluator(labelCol=\"label\", predictionCol=\"prediction\", metricName=\"accuracy\")\n",
    "accuracy = evaluator.evaluate(predictions)\n",
    "print(\"Accuracy =\", accuracy)"
   ]
  },
  {
   "cell_type": "markdown",
   "id": "2af01e0d-0cda-4f91-b28b-9bd44bdec86a",
   "metadata": {},
   "source": [
    "# Conclusion\n",
    "- This model explains in around 93% of the data.\n",
    "- The rate of increasing of dependent variable is around 44.24.\n",
    "- 0.1 is the stating value of dependent variable."
   ]
  }
 ],
 "metadata": {
  "kernelspec": {
   "display_name": "Python 3 (ipykernel)",
   "language": "python",
   "name": "python3"
  },
  "language_info": {
   "codemirror_mode": {
    "name": "ipython",
    "version": 3
   },
   "file_extension": ".py",
   "mimetype": "text/x-python",
   "name": "python",
   "nbconvert_exporter": "python",
   "pygments_lexer": "ipython3",
   "version": "3.8.0"
  }
 },
 "nbformat": 4,
 "nbformat_minor": 5
}
