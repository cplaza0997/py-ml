{
 "cells": [
  {
   "cell_type": "markdown",
   "id": "f68ea979-d92b-4472-815f-c917bfe84b00",
   "metadata": {
    "execution": {
     "iopub.execute_input": "2024-12-26T08:56:06.448265Z",
     "iopub.status.busy": "2024-12-26T08:56:06.447713Z",
     "iopub.status.idle": "2024-12-26T08:56:06.453484Z",
     "shell.execute_reply": "2024-12-26T08:56:06.452409Z",
     "shell.execute_reply.started": "2024-12-26T08:56:06.447713Z"
    }
   },
   "source": [
    "# Linear Regression\n",
    "$y=mx+b$\n",
    "- y (dependent variable)\n",
    "- x (independent variable)\n",
    "- m (slope) represents the rate of change of the dependent variable with repsect to the independent variable x.\n",
    "- b (intercept) represents the value of the dependent variable when the indepent variable is zero.\n"
   ]
  },
  {
   "cell_type": "markdown",
   "id": "4033f9f1-7daf-4160-85b0-e26508974055",
   "metadata": {
    "jp-MarkdownHeadingCollapsed": true
   },
   "source": [
    "# Setup dependencies\n",
    "I will be using pandas and sklearn for managing data and machine learning.\n",
    "<details>\n",
    "    <summary>pip install...</summary>\n",
    "\n",
    "```python\n",
    "# Allows to install a python package\n",
    "pip install package-name\n",
    "# or install python package with a specific version\n",
    "pip install package-name==version\n",
    "```\n",
    "</details>\n"
   ]
  },
  {
   "cell_type": "markdown",
   "id": "b7eac43f-67d4-4091-8ecd-d42415dcc8e1",
   "metadata": {
    "execution": {
     "iopub.execute_input": "2024-12-26T08:25:03.953373Z",
     "iopub.status.busy": "2024-12-26T08:25:03.953373Z"
    }
   },
   "source": [
    "!pip install pandas\n",
    "!pip install scikit-learn\n",
    "!pip install numpy"
   ]
  },
  {
   "cell_type": "markdown",
   "id": "2a2eaa03-e6f3-4828-a197-0b8d95fb63fd",
   "metadata": {},
   "source": [
    "# Generating synthetic dataset"
   ]
  },
  {
   "cell_type": "code",
   "execution_count": 3,
   "id": "b1daee36-429d-41b7-9f25-fff7aadabdfd",
   "metadata": {
    "execution": {
     "iopub.execute_input": "2024-12-26T08:25:18.349251Z",
     "iopub.status.busy": "2024-12-26T08:25:18.348248Z",
     "iopub.status.idle": "2024-12-26T08:25:19.854543Z",
     "shell.execute_reply": "2024-12-26T08:25:19.854543Z",
     "shell.execute_reply.started": "2024-12-26T08:25:18.349251Z"
    }
   },
   "outputs": [
    {
     "data": {
      "text/html": [
       "<div>\n",
       "<style scoped>\n",
       "    .dataframe tbody tr th:only-of-type {\n",
       "        vertical-align: middle;\n",
       "    }\n",
       "\n",
       "    .dataframe tbody tr th {\n",
       "        vertical-align: top;\n",
       "    }\n",
       "\n",
       "    .dataframe thead th {\n",
       "        text-align: right;\n",
       "    }\n",
       "</style>\n",
       "<table border=\"1\" class=\"dataframe\">\n",
       "  <thead>\n",
       "    <tr style=\"text-align: right;\">\n",
       "      <th></th>\n",
       "      <th>x</th>\n",
       "      <th>y</th>\n",
       "    </tr>\n",
       "  </thead>\n",
       "  <tbody>\n",
       "    <tr>\n",
       "      <th>0</th>\n",
       "      <td>0.931280</td>\n",
       "      <td>50.779929</td>\n",
       "    </tr>\n",
       "    <tr>\n",
       "      <th>1</th>\n",
       "      <td>0.087047</td>\n",
       "      <td>-10.065270</td>\n",
       "    </tr>\n",
       "    <tr>\n",
       "      <th>2</th>\n",
       "      <td>-1.057711</td>\n",
       "      <td>-34.918392</td>\n",
       "    </tr>\n",
       "    <tr>\n",
       "      <th>3</th>\n",
       "      <td>0.314247</td>\n",
       "      <td>10.526743</td>\n",
       "    </tr>\n",
       "    <tr>\n",
       "      <th>4</th>\n",
       "      <td>-0.479174</td>\n",
       "      <td>-17.738377</td>\n",
       "    </tr>\n",
       "  </tbody>\n",
       "</table>\n",
       "</div>"
      ],
      "text/plain": [
       "          x          y\n",
       "0  0.931280  50.779929\n",
       "1  0.087047 -10.065270\n",
       "2 -1.057711 -34.918392\n",
       "3  0.314247  10.526743\n",
       "4 -0.479174 -17.738377"
      ]
     },
     "execution_count": 3,
     "metadata": {},
     "output_type": "execute_result"
    }
   ],
   "source": [
    "import pandas as pd\n",
    "from sklearn.datasets import make_regression\n",
    "\n",
    "x, y = make_regression(n_samples=100, n_features=1, noise=10, random_state=42)\n",
    "df = pd.DataFrame({'x': x.flatten(), 'y': y})\n",
    "df.head(5)"
   ]
  },
  {
   "cell_type": "markdown",
   "id": "ebd72d46-0d48-4915-bb03-40d7f46e917c",
   "metadata": {},
   "source": [
    "# Revealing the relationship between x and y"
   ]
  },
  {
   "cell_type": "code",
   "execution_count": 13,
   "id": "021baeed-e51f-4892-8b6c-31f2005848e8",
   "metadata": {
    "execution": {
     "iopub.execute_input": "2024-12-26T08:29:47.889153Z",
     "iopub.status.busy": "2024-12-26T08:29:47.883777Z",
     "iopub.status.idle": "2024-12-26T08:29:47.988493Z",
     "shell.execute_reply": "2024-12-26T08:29:47.987987Z",
     "shell.execute_reply.started": "2024-12-26T08:29:47.889153Z"
    }
   },
   "outputs": [
    {
     "data": {
      "image/png": "[encoded data removed]",
      "text/plain": [
       "<Figure size 640x480 with 1 Axes>"
      ]
     },
     "metadata": {},
     "output_type": "display_data"
    }
   ],
   "source": [
    "import matplotlib.pyplot as plt\n",
    "plt.scatter(df['x'], df['y'], color='blue')\n",
    "\n",
    "plt.xlabel('Feature (x)')\n",
    "plt.ylabel('Target (y)')\n",
    "plt.title('Relationship between x and y')\n",
    "plt.show()"
   ]
  },
  {
   "cell_type": "markdown",
   "id": "ee0cae2d-a81a-4a7e-9fb8-09b052c2cf58",
   "metadata": {},
   "source": [
    "# Split into training and testing sets"
   ]
  },
  {
   "cell_type": "code",
   "execution_count": 14,
   "id": "98edf6f4-3350-4098-8c0d-66a70eeff6c0",
   "metadata": {
    "execution": {
     "iopub.execute_input": "2024-12-26T08:29:53.129219Z",
     "iopub.status.busy": "2024-12-26T08:29:53.129219Z",
     "iopub.status.idle": "2024-12-26T08:29:53.200464Z",
     "shell.execute_reply": "2024-12-26T08:29:53.200464Z",
     "shell.execute_reply.started": "2024-12-26T08:29:53.129219Z"
    }
   },
   "outputs": [],
   "source": [
    "from sklearn.model_selection import train_test_split\n",
    "\n",
    "x_train, x_test, y_train, y_test = train_test_split(x, y, test_size=0.2, random_state=42)"
   ]
  },
  {
   "cell_type": "markdown",
   "id": "5e50dcbd-d367-46b7-a10a-b078a5623eca",
   "metadata": {},
   "source": [
    "# Train the model"
   ]
  },
  {
   "cell_type": "code",
   "execution_count": 48,
   "id": "b545bd5b-302d-4f6b-921d-1c8abfc02390",
   "metadata": {
    "execution": {
     "iopub.execute_input": "2024-12-26T09:04:11.074163Z",
     "iopub.status.busy": "2024-12-26T09:04:11.074163Z",
     "iopub.status.idle": "2024-12-26T09:04:11.083682Z",
     "shell.execute_reply": "2024-12-26T09:04:11.083682Z",
     "shell.execute_reply.started": "2024-12-26T09:04:11.074163Z"
    }
   },
   "outputs": [
    {
     "name": "stdout",
     "output_type": "stream",
     "text": [
      "y = 44.24x + 0.1\n"
     ]
    }
   ],
   "source": [
    "from sklearn.linear_model import LinearRegression\n",
    "\n",
    "model = LinearRegression()\n",
    "model.fit(x_train, y_train)\n",
    "print(f\"y = {round(model.coef_[0],2)}x + {round(model.intercept_,2)}\")"
   ]
  },
  {
   "cell_type": "markdown",
   "id": "90ba2b15-efd9-456d-8be5-0afd6ab8689d",
   "metadata": {
    "execution": {
     "iopub.execute_input": "2024-12-26T08:17:56.742840Z",
     "iopub.status.busy": "2024-12-26T08:17:56.741840Z",
     "iopub.status.idle": "2024-12-26T08:17:56.747039Z",
     "shell.execute_reply": "2024-12-26T08:17:56.746030Z",
     "shell.execute_reply.started": "2024-12-26T08:17:56.742840Z"
    }
   },
   "source": [
    "# Predict and evaluate the model\n",
    "<details>\n",
    "    <summary>Coefficient of Determination (R^2)</summary>\n",
    "    <ul>            \n",
    "  <li>Ranges from 0 to 1</li>\n",
    "  <li>1: The regression model perfectly explains all the variability in the dependent variable.</li>\n",
    "  <li>0: The model does not explain the variability in the dependent variable at all.</li>\n",
    "</ul>\n",
    "\n",
    "</details>"
   ]
  },
  {
   "cell_type": "code",
   "execution_count": 30,
   "id": "ea1b9bdb-b02d-43b7-8e02-f383455f0a6a",
   "metadata": {
    "execution": {
     "iopub.execute_input": "2024-12-26T08:42:23.694314Z",
     "iopub.status.busy": "2024-12-26T08:42:23.689175Z",
     "iopub.status.idle": "2024-12-26T08:42:23.699437Z",
     "shell.execute_reply": "2024-12-26T08:42:23.698848Z",
     "shell.execute_reply.started": "2024-12-26T08:42:23.694314Z"
    }
   },
   "outputs": [
    {
     "name": "stdout",
     "output_type": "stream",
     "text": [
      "Coeficiente de Determinación (R²): 0.9374151607623286\n"
     ]
    }
   ],
   "source": [
    "from sklearn.metrics import r2_score\n",
    "\n",
    "y_pred = model.predict(x_test)\n",
    "r2 = r2_score(y_test, y_pred)\n",
    "\n",
    "print(f\"Coeficiente de Determinación (R²): {r2}\")\n"
   ]
  },
  {
   "cell_type": "markdown",
   "id": "65de9f31-63c2-4c23-9a75-d189eaf53a26",
   "metadata": {
    "execution": {
     "iopub.execute_input": "2024-12-26T08:53:10.514564Z",
     "iopub.status.busy": "2024-12-26T08:53:10.514564Z",
     "iopub.status.idle": "2024-12-26T08:53:10.521603Z",
     "shell.execute_reply": "2024-12-26T08:53:10.520459Z",
     "shell.execute_reply.started": "2024-12-26T08:53:10.514564Z"
    }
   },
   "source": [
    "# Prediction"
   ]
  },
  {
   "cell_type": "code",
   "execution_count": 37,
   "id": "820319b8-566f-4a27-9060-ea9e6408a41a",
   "metadata": {
    "execution": {
     "iopub.execute_input": "2024-12-26T08:53:17.764072Z",
     "iopub.status.busy": "2024-12-26T08:53:17.762886Z",
     "iopub.status.idle": "2024-12-26T08:53:17.769774Z",
     "shell.execute_reply": "2024-12-26T08:53:17.769110Z",
     "shell.execute_reply.started": "2024-12-26T08:53:17.764072Z"
    }
   },
   "outputs": [
    {
     "data": {
      "text/plain": [
       "array([41.30294417])"
      ]
     },
     "execution_count": 37,
     "metadata": {},
     "output_type": "execute_result"
    }
   ],
   "source": [
    "# Model\n",
    "model.predict([[0.931280]])"
   ]
  },
  {
   "cell_type": "markdown",
   "id": "2af01e0d-0cda-4f91-b28b-9bd44bdec86a",
   "metadata": {},
   "source": [
    "# Conclusion\n",
    "- This model explains in around 93% of the data.\n",
    "- The rate of increasing of dependent variable is around 44.24.\n",
    "- 0.1 is the stating value of dependent variable."
   ]
  }
 ],
 "metadata": {
  "kernelspec": {
   "display_name": "Python 3 (ipykernel)",
   "language": "python",
   "name": "python3"
  },
  "language_info": {
   "codemirror_mode": {
    "name": "ipython",
    "version": 3
   },
   "file_extension": ".py",
   "mimetype": "text/x-python",
   "name": "python",
   "nbconvert_exporter": "python",
   "pygments_lexer": "ipython3",
   "version": "3.11.5"
  }
 },
 "nbformat": 4,
 "nbformat_minor": 5
}
